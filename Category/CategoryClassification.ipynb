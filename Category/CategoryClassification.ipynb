{
 "cells": [
  {
   "cell_type": "code",
   "execution_count": 1,
   "id": "88175534",
   "metadata": {},
   "outputs": [
    {
     "name": "stderr",
     "output_type": "stream",
     "text": [
      "[nltk_data] Downloading package stopwords to /Users/rchn/nltk_data...\n",
      "[nltk_data]   Package stopwords is already up-to-date!\n"
     ]
    },
    {
     "data": {
      "text/plain": [
       "True"
      ]
     },
     "execution_count": 1,
     "metadata": {},
     "output_type": "execute_result"
    }
   ],
   "source": [
    "from pprint import pprint  # pretty-printer\n",
    "from collections import defaultdict\n",
    "from gensim import corpora\n",
    "from gensim import models\n",
    "from collections import Counter\n",
    "import pandas as pd\n",
    "import nltk\n",
    "from nltk.corpus import stopwords\n",
    "nltk.download('stopwords')"
   ]
  },
  {
   "cell_type": "code",
   "execution_count": 2,
   "id": "bae32637",
   "metadata": {},
   "outputs": [
    {
     "data": {
      "text/html": [
       "<div>\n",
       "<style scoped>\n",
       "    .dataframe tbody tr th:only-of-type {\n",
       "        vertical-align: middle;\n",
       "    }\n",
       "\n",
       "    .dataframe tbody tr th {\n",
       "        vertical-align: top;\n",
       "    }\n",
       "\n",
       "    .dataframe thead th {\n",
       "        text-align: right;\n",
       "    }\n",
       "</style>\n",
       "<table border=\"1\" class=\"dataframe\">\n",
       "  <thead>\n",
       "    <tr style=\"text-align: right;\">\n",
       "      <th></th>\n",
       "      <th>Ingredient</th>\n",
       "      <th>Thai name</th>\n",
       "      <th>English name</th>\n",
       "      <th>Scientific name</th>\n",
       "      <th>Color</th>\n",
       "      <th>Color (Keyword)</th>\n",
       "      <th>Flavor</th>\n",
       "      <th>Flavor (Keyword)</th>\n",
       "      <th>Properties</th>\n",
       "      <th>Nutrition</th>\n",
       "      <th>Benefits</th>\n",
       "      <th>Benefits (Keyword)</th>\n",
       "      <th>Cooking Type</th>\n",
       "      <th>frequency</th>\n",
       "      <th>Types</th>\n",
       "      <th>ปล. right now ส่องหมวดกับlist ในลิ้งนี้ https://en.wikipedia.org/wiki/List_of_Thai_ingredients#Insects</th>\n",
       "    </tr>\n",
       "  </thead>\n",
       "  <tbody>\n",
       "    <tr>\n",
       "      <th>0</th>\n",
       "      <td>Bai bua bok</td>\n",
       "      <td>ใบบัวบก</td>\n",
       "      <td>Centella asiatica or Indian pennywort</td>\n",
       "      <td>Centella asiatica</td>\n",
       "      <td>The leaves and stems of Bai Bua Bok are a vivi...</td>\n",
       "      <td>Green</td>\n",
       "      <td>Water Mimosa offers a unique flavor profile. I...</td>\n",
       "      <td>Sweet</td>\n",
       "      <td>Bai Bua Bok is characterized by its tender and...</td>\n",
       "      <td>Water Mimosa is a nutritional powerhouse. It i...</td>\n",
       "      <td>Bai Bua Bok is often used not only for its cul...</td>\n",
       "      <td>Culinary and HealthPotential</td>\n",
       "      <td>Fresh</td>\n",
       "      <td>NaN</td>\n",
       "      <td>Leave</td>\n",
       "      <td>NaN</td>\n",
       "    </tr>\n",
       "    <tr>\n",
       "      <th>1</th>\n",
       "      <td>Bai toei</td>\n",
       "      <td>ใบเตย</td>\n",
       "      <td>Pandan or screwpine leaves</td>\n",
       "      <td>Pandanus amaryllifolius</td>\n",
       "      <td>Deep green leaves with a glossy and slightly t...</td>\n",
       "      <td>Green</td>\n",
       "      <td>The taste of Bai Toei is complex and captivati...</td>\n",
       "      <td>Bitter</td>\n",
       "      <td>The leaves of Bai Toei are relatively sturdy, ...</td>\n",
       "      <td>Bai Toei is not only flavorful but also nutrit...</td>\n",
       "      <td>Bai Toei has been used for its potential healt...</td>\n",
       "      <td>HealthPotential</td>\n",
       "      <td>Infusion</td>\n",
       "      <td>NaN</td>\n",
       "      <td>Leave</td>\n",
       "      <td>NaN</td>\n",
       "    </tr>\n",
       "    <tr>\n",
       "      <th>2</th>\n",
       "      <td>Bai yanang</td>\n",
       "      <td>ใบย่านาง</td>\n",
       "      <td>Tiliacora triandra</td>\n",
       "      <td>Tiliacora triandra</td>\n",
       "      <td>An attractive shade of vibrant green. The leav...</td>\n",
       "      <td>Green</td>\n",
       "      <td>The taste of Bai Yanang is zesty and citrusy, ...</td>\n",
       "      <td>Bitter</td>\n",
       "      <td>The leaves of Bai Yanang are tender and delica...</td>\n",
       "      <td>Bai Yanang offers a distinctive flavor along w...</td>\n",
       "      <td>Bai Yanang is valued not only for its flavor b...</td>\n",
       "      <td>Culinary and HealthPotential</td>\n",
       "      <td>Boiled</td>\n",
       "      <td>NaN</td>\n",
       "      <td>Leave</td>\n",
       "      <td>NaN</td>\n",
       "    </tr>\n",
       "    <tr>\n",
       "      <th>3</th>\n",
       "      <td>Kuichai</td>\n",
       "      <td>กุยช่าย</td>\n",
       "      <td>Allium tuberosum Chinese chives</td>\n",
       "      <td>Allium tuberosum</td>\n",
       "      <td>a vibrant and appealing shade of dark green. T...</td>\n",
       "      <td>Green</td>\n",
       "      <td>The taste of Kuichai is distinctive and mildly...</td>\n",
       "      <td>Umami</td>\n",
       "      <td>The leaves and stalks of Kuichai are crisp and...</td>\n",
       "      <td>Kuichai is not only flavorful but also offers ...</td>\n",
       "      <td>Kuichai is associated with potential health be...</td>\n",
       "      <td>HealthPotential</td>\n",
       "      <td>Stir-fried</td>\n",
       "      <td>NaN</td>\n",
       "      <td>Leave</td>\n",
       "      <td>NaN</td>\n",
       "    </tr>\n",
       "    <tr>\n",
       "      <th>4</th>\n",
       "      <td>Horapha</td>\n",
       "      <td>โหระพา</td>\n",
       "      <td>Thai sweet basil</td>\n",
       "      <td>Ocimum basilicum var. thyrsiflora</td>\n",
       "      <td>Vibrant green leaves that are slightly smaller...</td>\n",
       "      <td>Green</td>\n",
       "      <td>The taste of Horapha is both aromatic and pepp...</td>\n",
       "      <td>Sweet and Astringent</td>\n",
       "      <td>The leaves of Horapha are tender and aromatic,...</td>\n",
       "      <td>Horapha is not only cherished for its taste bu...</td>\n",
       "      <td>Horapha holds cultural and potential health si...</td>\n",
       "      <td>Culinary and HealthPotential</td>\n",
       "      <td>Stir-fried and Fresh</td>\n",
       "      <td>NaN</td>\n",
       "      <td>NaN</td>\n",
       "      <td>NaN</td>\n",
       "    </tr>\n",
       "  </tbody>\n",
       "</table>\n",
       "</div>"
      ],
      "text/plain": [
       "    Ingredient Thai name                           English name  \\\n",
       "0  Bai bua bok   ใบบัวบก  Centella asiatica or Indian pennywort   \n",
       "1     Bai toei     ใบเตย             Pandan or screwpine leaves   \n",
       "2  Bai yanang   ใบย่านาง                     Tiliacora triandra   \n",
       "3      Kuichai   กุยช่าย        Allium tuberosum Chinese chives   \n",
       "4      Horapha    โหระพา                       Thai sweet basil   \n",
       "\n",
       "                     Scientific name  \\\n",
       "0                  Centella asiatica   \n",
       "1            Pandanus amaryllifolius   \n",
       "2                 Tiliacora triandra   \n",
       "3                   Allium tuberosum   \n",
       "4  Ocimum basilicum var. thyrsiflora   \n",
       "\n",
       "                                               Color Color (Keyword)  \\\n",
       "0  The leaves and stems of Bai Bua Bok are a vivi...           Green   \n",
       "1  Deep green leaves with a glossy and slightly t...           Green   \n",
       "2  An attractive shade of vibrant green. The leav...           Green   \n",
       "3  a vibrant and appealing shade of dark green. T...           Green   \n",
       "4  Vibrant green leaves that are slightly smaller...           Green   \n",
       "\n",
       "                                              Flavor      Flavor (Keyword)  \\\n",
       "0  Water Mimosa offers a unique flavor profile. I...                Sweet    \n",
       "1  The taste of Bai Toei is complex and captivati...               Bitter    \n",
       "2  The taste of Bai Yanang is zesty and citrusy, ...               Bitter    \n",
       "3  The taste of Kuichai is distinctive and mildly...                 Umami   \n",
       "4  The taste of Horapha is both aromatic and pepp...  Sweet and Astringent   \n",
       "\n",
       "                                          Properties  \\\n",
       "0  Bai Bua Bok is characterized by its tender and...   \n",
       "1  The leaves of Bai Toei are relatively sturdy, ...   \n",
       "2  The leaves of Bai Yanang are tender and delica...   \n",
       "3  The leaves and stalks of Kuichai are crisp and...   \n",
       "4  The leaves of Horapha are tender and aromatic,...   \n",
       "\n",
       "                                           Nutrition  \\\n",
       "0  Water Mimosa is a nutritional powerhouse. It i...   \n",
       "1  Bai Toei is not only flavorful but also nutrit...   \n",
       "2  Bai Yanang offers a distinctive flavor along w...   \n",
       "3  Kuichai is not only flavorful but also offers ...   \n",
       "4  Horapha is not only cherished for its taste bu...   \n",
       "\n",
       "                                            Benefits  \\\n",
       "0  Bai Bua Bok is often used not only for its cul...   \n",
       "1  Bai Toei has been used for its potential healt...   \n",
       "2  Bai Yanang is valued not only for its flavor b...   \n",
       "3  Kuichai is associated with potential health be...   \n",
       "4  Horapha holds cultural and potential health si...   \n",
       "\n",
       "             Benefits (Keyword)          Cooking Type frequency  Types  \\\n",
       "0  Culinary and HealthPotential                 Fresh       NaN  Leave   \n",
       "1               HealthPotential              Infusion       NaN  Leave   \n",
       "2  Culinary and HealthPotential                Boiled       NaN  Leave   \n",
       "3               HealthPotential            Stir-fried       NaN  Leave   \n",
       "4  Culinary and HealthPotential  Stir-fried and Fresh       NaN    NaN   \n",
       "\n",
       "   ปล. right now ส่องหมวดกับlist ในลิ้งนี้ https://en.wikipedia.org/wiki/List_of_Thai_ingredients#Insects  \n",
       "0                                                NaN                                                       \n",
       "1                                                NaN                                                       \n",
       "2                                                NaN                                                       \n",
       "3                                                NaN                                                       \n",
       "4                                                NaN                                                       "
      ]
     },
     "execution_count": 2,
     "metadata": {},
     "output_type": "execute_result"
    }
   ],
   "source": [
    "# retrieve a dataset from data.csv file\n",
    "data = pd.read_csv('Thai Local Ingredient - Herbs and spices.csv') \n",
    "data.head()"
   ]
  },
  {
   "cell_type": "code",
   "execution_count": 3,
   "id": "8d98758c",
   "metadata": {},
   "outputs": [],
   "source": [
    "column_name = 'Flavor'\n",
    "\n",
    "# Filter out non-string (NaN) values and combine text from the column into a single string\n",
    "column_data = data[column_name].dropna()\n",
    "all_text = ' '.join(column_data.astype(str))"
   ]
  },
  {
   "cell_type": "code",
   "execution_count": 4,
   "id": "de854a6d",
   "metadata": {},
   "outputs": [],
   "source": [
    "words = all_text.split()"
   ]
  },
  {
   "cell_type": "code",
   "execution_count": 47,
   "id": "875e51c8",
   "metadata": {},
   "outputs": [],
   "source": [
    "# List of flavor-related words\n",
    "flavor_words = [\n",
    "    'spicy', 'peppery', 'sweet', 'pungent', 'aromatic', 'citrusy', 'mild',\n",
    "    'tangy', 'intense', 'bitter', 'savory', 'spicy', 'earthy'\n",
    "]"
   ]
  },
  {
   "cell_type": "code",
   "execution_count": 48,
   "id": "fbd79eb6",
   "metadata": {},
   "outputs": [],
   "source": [
    "# ignore stop words\n",
    "stop_words = set(stopwords.words('english'))\n",
    "filtered_words = [word for word in words if word.lower() not in stop_words and word.lower() in flavor_words]"
   ]
  },
  {
   "cell_type": "code",
   "execution_count": 49,
   "id": "7471c83a",
   "metadata": {
    "scrolled": true
   },
   "outputs": [],
   "source": [
    "# Count the occurrences of each word\n",
    "word_counts = Counter(filtered_words)\n",
    "\n",
    "most_common_words = word_counts.most_common(25)"
   ]
  },
  {
   "cell_type": "code",
   "execution_count": 50,
   "id": "a84ce7dc",
   "metadata": {},
   "outputs": [
    {
     "name": "stdout",
     "output_type": "stream",
     "text": [
      "spicy\n",
      "peppery\n",
      "sweet\n",
      "pungent\n",
      "aromatic\n",
      "citrusy\n",
      "mild\n",
      "tangy\n",
      "intense\n",
      "bitter\n",
      "savory\n",
      "earthy\n"
     ]
    }
   ],
   "source": [
    "for word, count in most_common_words:\n",
    "    print(f'{word}')"
   ]
  },
  {
   "cell_type": "code",
   "execution_count": null,
   "id": "f1450521",
   "metadata": {},
   "outputs": [],
   "source": []
  }
 ],
 "metadata": {
  "kernelspec": {
   "display_name": "Python 3 (ipykernel)",
   "language": "python",
   "name": "python3"
  },
  "language_info": {
   "codemirror_mode": {
    "name": "ipython",
    "version": 3
   },
   "file_extension": ".py",
   "mimetype": "text/x-python",
   "name": "python",
   "nbconvert_exporter": "python",
   "pygments_lexer": "ipython3",
   "version": "3.11.3"
  }
 },
 "nbformat": 4,
 "nbformat_minor": 5
}
