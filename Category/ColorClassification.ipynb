{
 "cells": [
  {
   "cell_type": "code",
   "execution_count": 41,
   "id": "5d58d5aa",
   "metadata": {},
   "outputs": [],
   "source": [
    "import pandas as pd\n",
    "import re"
   ]
  },
  {
   "cell_type": "code",
   "execution_count": 42,
   "id": "6f565292",
   "metadata": {},
   "outputs": [],
   "source": [
    "# Load the dataset\n",
    "data = pd.read_csv('Thai Local Ingredient - Herbs and spices.csv')\n",
    "\n",
    "# List of color-related words\n",
    "color_words = [\n",
    "    'red', 'orange', 'yellow', 'green', 'blue',\n",
    "    'purple', 'pink', 'brown', 'gray', 'black', 'white',\n",
    "    'beige', 'turquoise', 'gold', 'silver', 'indigo',\n",
    "    'magenta', 'cyan', 'maroon', 'navy'\n",
    "]\n",
    "\n",
    "# Extract color-related keywords from a text and capitalize them\n",
    "def extract_color_keywords(text):\n",
    "    if isinstance(text, str):\n",
    "        words = re.findall(r'\\b\\w+\\b', text.lower())\n",
    "        color_keywords = [word.capitalize() for word in words if word in color_words]\n",
    "        return ' or '.join(color_keywords)\n",
    "    return ''\n",
    "\n",
    "# Create a list to store dictionaries with 'English Name' and 'Color'\n",
    "new_data = []\n",
    "\n",
    "# Iterate through the dataset and populate the list\n",
    "for index, row in data.iterrows():\n",
    "    english_name = row['English name 1']\n",
    "    color_keywords = extract_color_keywords(row['Color'])\n",
    "    \n",
    "    if color_keywords:\n",
    "        new_data.append({'English Name': english_name, 'Color': color_keywords})\n",
    "\n",
    "# Create a new DataFrame from the list\n",
    "new_data_df = pd.DataFrame(new_data)\n",
    "\n",
    "# Save the new DataFrame to an Excel file\n",
    "new_data_df.to_excel('english_name_with_color_keywords.xlsx', index=False)\n"
   ]
  }
 ],
 "metadata": {
  "kernelspec": {
   "display_name": "Python 3 (ipykernel)",
   "language": "python",
   "name": "python3"
  },
  "language_info": {
   "codemirror_mode": {
    "name": "ipython",
    "version": 3
   },
   "file_extension": ".py",
   "mimetype": "text/x-python",
   "name": "python",
   "nbconvert_exporter": "python",
   "pygments_lexer": "ipython3",
   "version": "3.9.12"
  }
 },
 "nbformat": 4,
 "nbformat_minor": 5
}
