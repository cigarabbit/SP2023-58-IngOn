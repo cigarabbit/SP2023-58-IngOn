{
 "cells": [
  {
   "cell_type": "code",
   "execution_count": 20,
   "id": "64fb56cd",
   "metadata": {},
   "outputs": [],
   "source": [
    "import pandas as pd\n",
    "import re\n",
    "\n",
    "# Load the dataset, skipping empty rows\n",
    "data = pd.read_csv('Thai local ingredients - Spices.csv').dropna(subset=['English name'], how='all')\n",
    "\n",
    "# List of flavor-related words\n",
    "flavor_words = [\n",
    "    'spicy', 'peppery', 'sweet', 'pungent', 'mild', 'cinnamon', 'umami',\n",
    "    'tangy', 'bitter', 'savory', 'spicy', 'earthy', 'citrusy', 'zesty'\n",
    "]\n",
    "\n",
    "# Extract keywords from a text and capitalize them\n",
    "def extract_keywords(text, keyword_list):\n",
    "    if isinstance(text, str):\n",
    "        words = re.findall(r'\\b\\w+\\b', text.lower())\n",
    "        keywords = [word.capitalize() for word in words if word in keyword_list]\n",
    "        return keywords\n",
    "    return []\n",
    "\n",
    "# Create a list to store dictionaries with ingredient information and flavors\n",
    "new_data = []\n",
    "\n",
    "# Iterate through the dataset and populate the list\n",
    "for index, row in data.iterrows():\n",
    "    english_name1 = row['English name']\n",
    "    english_name2 = row['English name 2']\n",
    "    english_name3 = row['English name 3']\n",
    "    \n",
    "    flavor_keywords = extract_keywords(row['Flavor'], flavor_words)\n",
    "    \n",
    "    info_dict = {\n",
    "        'English Name 1': english_name1,\n",
    "        'English Name 2': english_name2,\n",
    "        'English Name 3': english_name3,\n",
    "    }\n",
    "    \n",
    "    if flavor_keywords:\n",
    "        for i, flavor_keyword in enumerate(flavor_keywords):\n",
    "            info_dict[f'Flavor {i+1}'] = flavor_keyword\n",
    "            \n",
    "    new_data.append(info_dict)\n",
    "\n",
    "# Create a new DataFrame from the list\n",
    "new_data_df = pd.DataFrame(new_data)\n",
    "\n",
    "# Save the new DataFrame to an Excel file\n",
    "new_data_df.to_excel('ingredient.xlsx', index=False)\n"
   ]
  },
  {
   "cell_type": "code",
   "execution_count": null,
   "id": "eb3009ec",
   "metadata": {},
   "outputs": [],
   "source": []
  }
 ],
 "metadata": {
  "kernelspec": {
   "display_name": "Python 3 (ipykernel)",
   "language": "python",
   "name": "python3"
  },
  "language_info": {
   "codemirror_mode": {
    "name": "ipython",
    "version": 3
   },
   "file_extension": ".py",
   "mimetype": "text/x-python",
   "name": "python",
   "nbconvert_exporter": "python",
   "pygments_lexer": "ipython3",
   "version": "3.11.3"
  }
 },
 "nbformat": 4,
 "nbformat_minor": 5
}
